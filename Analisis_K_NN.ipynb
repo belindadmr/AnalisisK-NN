{
  "nbformat": 4,
  "nbformat_minor": 0,
  "metadata": {
    "colab": {
      "provenance": [],
      "include_colab_link": true
    },
    "kernelspec": {
      "name": "python3",
      "display_name": "Python 3"
    },
    "language_info": {
      "name": "python"
    }
  },
  "cells": [
    {
      "cell_type": "markdown",
      "metadata": {
        "id": "view-in-github",
        "colab_type": "text"
      },
      "source": [
        "<a href=\"https://colab.research.google.com/github/belindadmr/AnalisisK-NN/blob/main/Analisis_K_NN.ipynb\" target=\"_parent\"><img src=\"https://colab.research.google.com/assets/colab-badge.svg\" alt=\"Open In Colab\"/></a>"
      ]
    },
    {
      "cell_type": "markdown",
      "source": [
        "- Nama : Belinda Damara Datu\n",
        "- NIM : 4112321016\n",
        "- Mata Kuliah : Data Mining\n",
        "- Prodi : Statistika Terapan dan Komputasi"
      ],
      "metadata": {
        "id": "ICWIIZTzsW-S"
      }
    },
    {
      "cell_type": "markdown",
      "source": [
        "# Analisis K-NN\n",
        "\n",
        "Jarak Mahalanobis adalah metode untuk mengukur jarak antara titik dan suatu distribusi dalam ruang berdimensi banyak. Jarak ini mengambil pertimbangan kovariansi antar variabel, oleh karena itu, ia dapat mengukur seberapa jauh suatu titik berada dari distribusi dengan memperhitungkan struktur variabilitas dari data"
      ],
      "metadata": {
        "id": "bbF75hMDaGrx"
      }
    },
    {
      "cell_type": "code",
      "source": [
        "import pandas as pd\n",
        "import numpy as np\n",
        "from sklearn.model_selection import train_test_split\n",
        "from sklearn.neighbors import DistanceMetric\n",
        "from sklearn.neighbors import KNeighborsClassifier\n",
        "from scipy.spatial import distance\n",
        "from sklearn.metrics import accuracy_score"
      ],
      "metadata": {
        "id": "8HD_55AWhIDQ"
      },
      "execution_count": null,
      "outputs": []
    },
    {
      "cell_type": "code",
      "source": [
        "pip install pandas scikit-learn numpy"
      ],
      "metadata": {
        "colab": {
          "base_uri": "https://localhost:8080/"
        },
        "id": "ouEV18K8jdNw",
        "outputId": "d2d31636-d688-452c-db21-ff93dffec6cd"
      },
      "execution_count": null,
      "outputs": [
        {
          "output_type": "stream",
          "name": "stdout",
          "text": [
            "Requirement already satisfied: pandas in /usr/local/lib/python3.10/dist-packages (1.5.3)\n",
            "Requirement already satisfied: scikit-learn in /usr/local/lib/python3.10/dist-packages (1.2.2)\n",
            "Requirement already satisfied: numpy in /usr/local/lib/python3.10/dist-packages (1.23.5)\n",
            "Requirement already satisfied: python-dateutil>=2.8.1 in /usr/local/lib/python3.10/dist-packages (from pandas) (2.8.2)\n",
            "Requirement already satisfied: pytz>=2020.1 in /usr/local/lib/python3.10/dist-packages (from pandas) (2023.3.post1)\n",
            "Requirement already satisfied: scipy>=1.3.2 in /usr/local/lib/python3.10/dist-packages (from scikit-learn) (1.11.3)\n",
            "Requirement already satisfied: joblib>=1.1.1 in /usr/local/lib/python3.10/dist-packages (from scikit-learn) (1.3.2)\n",
            "Requirement already satisfied: threadpoolctl>=2.0.0 in /usr/local/lib/python3.10/dist-packages (from scikit-learn) (3.2.0)\n",
            "Requirement already satisfied: six>=1.5 in /usr/local/lib/python3.10/dist-packages (from python-dateutil>=2.8.1->pandas) (1.16.0)\n"
          ]
        }
      ]
    },
    {
      "cell_type": "code",
      "source": [
        "!unzip wine.zip"
      ],
      "metadata": {
        "colab": {
          "base_uri": "https://localhost:8080/"
        },
        "id": "VcWO4Jv7h3VA",
        "outputId": "64a49e76-8d0b-4791-f0af-a25a3fb99b3e"
      },
      "execution_count": null,
      "outputs": [
        {
          "output_type": "stream",
          "name": "stdout",
          "text": [
            "Archive:  wine.zip\n",
            "  inflating: Index                   \n",
            "  inflating: wine.data               \n",
            "  inflating: wine.names              \n"
          ]
        }
      ]
    },
    {
      "cell_type": "code",
      "source": [
        "column_names = [\n",
        "    'Class', 'Alcohol', 'Malic acid', 'Ash', 'Alcalinity of ash', 'Magnesium',\n",
        "    'Total phenols', 'Flavanoids', 'Nonflavanoid phenols', 'Proanthocyanins',\n",
        "    'Color intensity', 'Hue', 'OD280/OD315 of diluted wines', 'Proline'\n",
        "]\n",
        "\n",
        "df = pd.read_csv('wine.data', header=None, names=column_names)\n"
      ],
      "metadata": {
        "id": "sfM0VUYLnOKs"
      },
      "execution_count": null,
      "outputs": []
    },
    {
      "cell_type": "code",
      "source": [
        "print(df.describe())"
      ],
      "metadata": {
        "id": "MzZRNoYYbMdX",
        "colab": {
          "base_uri": "https://localhost:8080/"
        },
        "outputId": "4bf3bca6-6c57-45c7-d099-178406e652c1"
      },
      "execution_count": null,
      "outputs": [
        {
          "output_type": "stream",
          "name": "stdout",
          "text": [
            "            Class     Alcohol  Malic acid         Ash  Alcalinity of ash  \\\n",
            "count  178.000000  178.000000  178.000000  178.000000         178.000000   \n",
            "mean     1.938202   13.000618    2.336348    2.366517          19.494944   \n",
            "std      0.775035    0.811827    1.117146    0.274344           3.339564   \n",
            "min      1.000000   11.030000    0.740000    1.360000          10.600000   \n",
            "25%      1.000000   12.362500    1.602500    2.210000          17.200000   \n",
            "50%      2.000000   13.050000    1.865000    2.360000          19.500000   \n",
            "75%      3.000000   13.677500    3.082500    2.557500          21.500000   \n",
            "max      3.000000   14.830000    5.800000    3.230000          30.000000   \n",
            "\n",
            "        Magnesium  Total phenols  Flavanoids  Nonflavanoid phenols  \\\n",
            "count  178.000000     178.000000  178.000000            178.000000   \n",
            "mean    99.741573       2.295112    2.029270              0.361854   \n",
            "std     14.282484       0.625851    0.998859              0.124453   \n",
            "min     70.000000       0.980000    0.340000              0.130000   \n",
            "25%     88.000000       1.742500    1.205000              0.270000   \n",
            "50%     98.000000       2.355000    2.135000              0.340000   \n",
            "75%    107.000000       2.800000    2.875000              0.437500   \n",
            "max    162.000000       3.880000    5.080000              0.660000   \n",
            "\n",
            "       Proanthocyanins  Color intensity         Hue  \\\n",
            "count       178.000000       178.000000  178.000000   \n",
            "mean          1.590899         5.058090    0.957449   \n",
            "std           0.572359         2.318286    0.228572   \n",
            "min           0.410000         1.280000    0.480000   \n",
            "25%           1.250000         3.220000    0.782500   \n",
            "50%           1.555000         4.690000    0.965000   \n",
            "75%           1.950000         6.200000    1.120000   \n",
            "max           3.580000        13.000000    1.710000   \n",
            "\n",
            "       OD280/OD315 of diluted wines      Proline  \n",
            "count                    178.000000   178.000000  \n",
            "mean                       2.611685   746.893258  \n",
            "std                        0.709990   314.907474  \n",
            "min                        1.270000   278.000000  \n",
            "25%                        1.937500   500.500000  \n",
            "50%                        2.780000   673.500000  \n",
            "75%                        3.170000   985.000000  \n",
            "max                        4.000000  1680.000000  \n"
          ]
        }
      ]
    },
    {
      "cell_type": "code",
      "source": [
        "print(df.head())"
      ],
      "metadata": {
        "colab": {
          "base_uri": "https://localhost:8080/"
        },
        "id": "bh0ryamtbMbK",
        "outputId": "d33a5b85-6a53-46b5-b9d0-673d7dc1deb3"
      },
      "execution_count": null,
      "outputs": [
        {
          "output_type": "stream",
          "name": "stdout",
          "text": [
            "   Class  Alcohol  Malic acid   Ash  Alcalinity of ash  Magnesium  \\\n",
            "0      1    14.23        1.71  2.43               15.6        127   \n",
            "1      1    13.20        1.78  2.14               11.2        100   \n",
            "2      1    13.16        2.36  2.67               18.6        101   \n",
            "3      1    14.37        1.95  2.50               16.8        113   \n",
            "4      1    13.24        2.59  2.87               21.0        118   \n",
            "\n",
            "   Total phenols  Flavanoids  Nonflavanoid phenols  Proanthocyanins  \\\n",
            "0           2.80        3.06                  0.28             2.29   \n",
            "1           2.65        2.76                  0.26             1.28   \n",
            "2           2.80        3.24                  0.30             2.81   \n",
            "3           3.85        3.49                  0.24             2.18   \n",
            "4           2.80        2.69                  0.39             1.82   \n",
            "\n",
            "   Color intensity   Hue  OD280/OD315 of diluted wines  Proline  \n",
            "0             5.64  1.04                          3.92     1065  \n",
            "1             4.38  1.05                          3.40     1050  \n",
            "2             5.68  1.03                          3.17     1185  \n",
            "3             7.80  0.86                          3.45     1480  \n",
            "4             4.32  1.04                          2.93      735  \n"
          ]
        }
      ]
    },
    {
      "cell_type": "code",
      "source": [
        "# Menghilangkan kolom 'Class' karena fokus pada fitur\n",
        "df_features = df.drop(columns='Class')\n",
        "\n",
        "# Hitung vektor rata-rata dan matriks kovariansi\n",
        "mean_vector = df_features.mean().values\n",
        "cov_matrix = df_features.cov().values\n",
        "inv_cov_matrix = np.linalg.inv(cov_matrix)\n",
        "\n",
        "# Fungsi untuk menghitung jarak Mahalanobis\n",
        "def mahalanobis(x, mean_vector, inv_cov_matrix):\n",
        "    delta = x - mean_vector\n",
        "    return np.sqrt(delta.T @ inv_cov_matrix @ delta)\n",
        "\n",
        "# Hitung jarak Mahalanobis untuk setiap titik dalam dataset\n",
        "mahalanobis_distances = df_features.apply(mahalanobis, axis=1, args=(mean_vector, inv_cov_matrix))\n"
      ],
      "metadata": {
        "id": "a6wsARfCbMYy"
      },
      "execution_count": null,
      "outputs": []
    },
    {
      "cell_type": "code",
      "source": [
        "print(mahalanobis_distances)"
      ],
      "metadata": {
        "id": "hgI3kb-zbMWP",
        "colab": {
          "base_uri": "https://localhost:8080/"
        },
        "outputId": "2f90ef4b-c7da-4b08-8f97-6d6186fcd279"
      },
      "execution_count": null,
      "outputs": [
        {
          "output_type": "stream",
          "name": "stdout",
          "text": [
            "0      3.567329\n",
            "1      3.131736\n",
            "2      3.064510\n",
            "3      3.520709\n",
            "4      2.584803\n",
            "         ...   \n",
            "173    3.226328\n",
            "174    2.258621\n",
            "175    3.525690\n",
            "176    3.187978\n",
            "177    3.322199\n",
            "Length: 178, dtype: float64\n"
          ]
        }
      ]
    },
    {
      "cell_type": "code",
      "source": [
        "distances_list = [3.567329, 3.131736, 3.064510, 3.520709, 2.584803, ...]\n",
        "mahalanobis_distances = pd.Series(distances_list)\n",
        "\n",
        "print(mahalanobis_distances)"
      ],
      "metadata": {
        "id": "njUN5OASaMNL",
        "colab": {
          "base_uri": "https://localhost:8080/"
        },
        "outputId": "8a61ff8e-4b24-4a97-badc-709fa9b282b8"
      },
      "execution_count": null,
      "outputs": [
        {
          "output_type": "stream",
          "name": "stdout",
          "text": [
            "0    3.567329\n",
            "1    3.131736\n",
            "2     3.06451\n",
            "3    3.520709\n",
            "4    2.584803\n",
            "5    Ellipsis\n",
            "dtype: object\n"
          ]
        }
      ]
    },
    {
      "cell_type": "code",
      "source": [
        "print(df.head())"
      ],
      "metadata": {
        "id": "ma3R2hmkaMLe",
        "colab": {
          "base_uri": "https://localhost:8080/"
        },
        "outputId": "c66c23af-1591-4571-ea38-de79af0aec79"
      },
      "execution_count": null,
      "outputs": [
        {
          "output_type": "stream",
          "name": "stdout",
          "text": [
            "   Class  Alcohol  Malic acid   Ash  Alcalinity of ash  Magnesium  \\\n",
            "0      1    14.23        1.71  2.43               15.6        127   \n",
            "1      1    13.20        1.78  2.14               11.2        100   \n",
            "2      1    13.16        2.36  2.67               18.6        101   \n",
            "3      1    14.37        1.95  2.50               16.8        113   \n",
            "4      1    13.24        2.59  2.87               21.0        118   \n",
            "\n",
            "   Total phenols  Flavanoids  Nonflavanoid phenols  Proanthocyanins  \\\n",
            "0           2.80        3.06                  0.28             2.29   \n",
            "1           2.65        2.76                  0.26             1.28   \n",
            "2           2.80        3.24                  0.30             2.81   \n",
            "3           3.85        3.49                  0.24             2.18   \n",
            "4           2.80        2.69                  0.39             1.82   \n",
            "\n",
            "   Color intensity   Hue  OD280/OD315 of diluted wines  Proline  \n",
            "0             5.64  1.04                          3.92     1065  \n",
            "1             4.38  1.05                          3.40     1050  \n",
            "2             5.68  1.03                          3.17     1185  \n",
            "3             7.80  0.86                          3.45     1480  \n",
            "4             4.32  1.04                          2.93      735  \n"
          ]
        }
      ]
    },
    {
      "cell_type": "code",
      "source": [
        "# Membagi data menjadi training set dan testing set\n",
        "X = df.drop('Class', axis=1)\n",
        "y = df['Class']\n",
        "X_train, X_test, y_train, y_test = train_test_split(X, y, test_size=0.2, random_state=42)\n",
        "\n",
        "# Mendefinisikan fungsi jarak Mahalanobis\n",
        "def mahalanobis_dist(x, y, VI):\n",
        "    return distance.mahalanobis(x, y, VI)\n",
        "\n",
        "# Menghitung matriks kovariansi dari data training\n",
        "cov_matrix = np.cov(X_train, rowvar=False)\n",
        "inv_cov_matrix = np.linalg.pinv(cov_matrix)\n",
        "\n",
        "# Menerapkan k-NN dengan jarak Mahalanobis\n",
        "results = {}\n",
        "for k in [2, 3, 4, 5, 6, 7]:\n",
        "    if y_test.iloc[0] % 2 == 0 and k in [3, 5, 7] or y_test.iloc[0] % 2 != 0 and k in [2, 4, 6]:\n",
        "        knn = KNeighborsClassifier(n_neighbors=k, metric=mahalanobis_dist, metric_params={'VI': inv_cov_matrix})\n",
        "        knn.fit(X_train, y_train)\n",
        "        y_pred = knn.predict(X_test)\n",
        "        acc = accuracy_score(y_test, y_pred)\n",
        "        results[k] = acc\n",
        "\n",
        "print(results)\n"
      ],
      "metadata": {
        "id": "RFu686vuaMJi",
        "colab": {
          "base_uri": "https://localhost:8080/"
        },
        "outputId": "16693387-af06-4aac-afc8-9f782b483c8b"
      },
      "execution_count": null,
      "outputs": [
        {
          "output_type": "stream",
          "name": "stdout",
          "text": [
            "{2: 0.8611111111111112, 4: 0.8888888888888888, 6: 0.9166666666666666}\n"
          ]
        }
      ]
    }
  ]
}